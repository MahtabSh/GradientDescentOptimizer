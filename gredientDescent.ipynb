{
  "nbformat": 4,
  "nbformat_minor": 0,
  "metadata": {
    "colab": {
      "name": "tensorflow1.ipynb",
      "version": "0.3.2",
      "provenance": [],
      "collapsed_sections": []
    },
    "kernelspec": {
      "name": "python3",
      "display_name": "Python 3"
    }
  },
  "cells": [
    {
      "metadata": {
        "id": "5hEuz2erkPK_",
        "colab_type": "code",
        "colab": {
          "base_uri": "https://localhost:8080/",
          "height": 198
        },
        "outputId": "acad2ad8-bc28-49d0-ddd1-b870dd7bc57a"
      },
      "cell_type": "code",
      "source": [
        "import numpy as np\n",
        "import pandas as pd\n",
        "import matplotlib.pyplot as plt\n",
        "%matplotlib inline\n",
        "import tensorflow as tf\n",
        "x_data=np.linspace(0.0,10.0,1000000)\n",
        "noise=np.random.randn(len(x_data))\n",
        "#y=mx+b\n",
        "#m=0.5\n",
        "#b=5\n",
        "y_true=(0.5*x_data)+5+noise\n",
        "x_df=pd.DataFrame(data=x_data,columns=['X Data'])\n",
        "y_df=pd.DataFrame(data=y_true,columns=['Y'])\n",
        "my_data=pd.concat([x_df,y_df],axis=1)\n",
        "my_data.head()\n"
      ],
      "execution_count": 2,
      "outputs": [
        {
          "output_type": "execute_result",
          "data": {
            "text/html": [
              "<div>\n",
              "<style scoped>\n",
              "    .dataframe tbody tr th:only-of-type {\n",
              "        vertical-align: middle;\n",
              "    }\n",
              "\n",
              "    .dataframe tbody tr th {\n",
              "        vertical-align: top;\n",
              "    }\n",
              "\n",
              "    .dataframe thead th {\n",
              "        text-align: right;\n",
              "    }\n",
              "</style>\n",
              "<table border=\"1\" class=\"dataframe\">\n",
              "  <thead>\n",
              "    <tr style=\"text-align: right;\">\n",
              "      <th></th>\n",
              "      <th>X Data</th>\n",
              "      <th>Y</th>\n",
              "    </tr>\n",
              "  </thead>\n",
              "  <tbody>\n",
              "    <tr>\n",
              "      <th>0</th>\n",
              "      <td>0.00000</td>\n",
              "      <td>5.134257</td>\n",
              "    </tr>\n",
              "    <tr>\n",
              "      <th>1</th>\n",
              "      <td>0.00001</td>\n",
              "      <td>2.950076</td>\n",
              "    </tr>\n",
              "    <tr>\n",
              "      <th>2</th>\n",
              "      <td>0.00002</td>\n",
              "      <td>4.894244</td>\n",
              "    </tr>\n",
              "    <tr>\n",
              "      <th>3</th>\n",
              "      <td>0.00003</td>\n",
              "      <td>5.736281</td>\n",
              "    </tr>\n",
              "    <tr>\n",
              "      <th>4</th>\n",
              "      <td>0.00004</td>\n",
              "      <td>4.076502</td>\n",
              "    </tr>\n",
              "  </tbody>\n",
              "</table>\n",
              "</div>"
            ],
            "text/plain": [
              "    X Data         Y\n",
              "0  0.00000  5.134257\n",
              "1  0.00001  2.950076\n",
              "2  0.00002  4.894244\n",
              "3  0.00003  5.736281\n",
              "4  0.00004  4.076502"
            ]
          },
          "metadata": {
            "tags": []
          },
          "execution_count": 2
        }
      ]
    },
    {
      "metadata": {
        "id": "D3gAPqC2yiS8",
        "colab_type": "code",
        "colab": {
          "base_uri": "https://localhost:8080/",
          "height": 297
        },
        "outputId": "f8ed2d99-02e9-49a9-8bca-5e6b32955bba"
      },
      "cell_type": "code",
      "source": [
        "my_data.sample(n=250).plot(kind='scatter',x='X Data',y='Y')\n"
      ],
      "execution_count": 3,
      "outputs": [
        {
          "output_type": "execute_result",
          "data": {
            "text/plain": [
              "<matplotlib.axes._subplots.AxesSubplot at 0x7fbe1c4b2f28>"
            ]
          },
          "metadata": {
            "tags": []
          },
          "execution_count": 3
        },
        {
          "output_type": "display_data",
          "data": {
            "image/png": "[encoded data removed]",
            "text/plain": [
              "<matplotlib.figure.Figure at 0x7fbe2b298438>"
            ]
          },
          "metadata": {
            "tags": []
          }
        }
      ]
    },
    {
      "metadata": {
        "id": "Ww5lnDgKyweh",
        "colab_type": "code",
        "colab": {
          "base_uri": "https://localhost:8080/",
          "height": 35
        },
        "outputId": "c4d2d355-48fb-4f48-9a29-dd8ae9a2b12e"
      },
      "cell_type": "code",
      "source": [
        "batch_size=8\n",
        "print(np.random.randn(2))\n"
      ],
      "execution_count": 4,
      "outputs": [
        {
          "output_type": "stream",
          "text": [
            "[0.61692676 1.54499345]\n"
          ],
          "name": "stdout"
        }
      ]
    },
    {
      "metadata": {
        "id": "ydlNot32y8N4",
        "colab_type": "code",
        "colab": {
          "base_uri": "https://localhost:8080/",
          "height": 35
        },
        "outputId": "3b0e0b4f-c0e9-4833-fcd6-737cb4854914"
      },
      "cell_type": "code",
      "source": [
        "m=tf.Variable(0.61692676)\n",
        "b=tf.Variable(1.54499345)\n",
        "xph=tf.placeholder(tf.float32,[batch_size])\n",
        "yph=tf.placeholder(tf.float32,[batch_size])\n",
        "y_model=m*xph+b\n",
        "error=tf.reduce_sum(tf.square(yph-y_model))\n",
        "optimizer=tf.train.GradientDescentOptimizer(learning_rate=0.001)\n",
        "train=optimizer.minimize(error)\n",
        "init=tf.global_variables_initializer()\n",
        "with tf.Session() as sess:\n",
        "  sess.run(init)\n",
        "  batches=10000\n",
        "  for i in  range(batches):\n",
        "    rand_ind=np.random.randint(len(x_data),size=batch_size)\n",
        "    feed={xph:x_data[rand_ind],yph:y_true[rand_ind]}\n",
        "    sess.run(train,feed_dict=feed)\n",
        "  model_m,model_b=sess.run([m,b])\n",
        "  print(model_m,model_b)\n",
        "  \n",
        "  y_hat=x_data*model_m+model_b    "
      ],
      "execution_count": 14,
      "outputs": [
        {
          "output_type": "stream",
          "text": [
            "0.5996093 4.993449\n"
          ],
          "name": "stdout"
        }
      ]
    },
    {
      "metadata": {
        "id": "l3AEId9O1sE0",
        "colab_type": "code",
        "colab": {
          "base_uri": "https://localhost:8080/",
          "height": 297
        },
        "outputId": "afb8fd69-01bd-4790-eade-b91c36bfd277"
      },
      "cell_type": "code",
      "source": [
        "my_data.sample(250).plot(kind='scatter',x='X Data',y='Y')\n",
        "plt.plot(x_data,y_hat,'r')\n"
      ],
      "execution_count": 15,
      "outputs": [
        {
          "output_type": "execute_result",
          "data": {
            "text/plain": [
              "[<matplotlib.lines.Line2D at 0x7fbe1604f588>]"
            ]
          },
          "metadata": {
            "tags": []
          },
          "execution_count": 15
        },
        {
          "output_type": "display_data",
          "data": {
            "image/png": "[encoded data removed]",
            "text/plain": [
              "<matplotlib.figure.Figure at 0x7fbe1604f7b8>"
            ]
          },
          "metadata": {
            "tags": []
          }
        }
      ]
    }
  ]
}